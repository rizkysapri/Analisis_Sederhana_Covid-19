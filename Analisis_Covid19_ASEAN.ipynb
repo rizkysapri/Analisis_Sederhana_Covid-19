{
 "cells": [
  {
   "cell_type": "markdown",
   "metadata": {},
   "source": [
    "<h1>Pendahuluan</h1>\n",
    "<p>Covid19 adalah pandemi yang sudah mewabah ke seluruh dunia. Sebagian besar negara-negara di dunia sudah terjangkit. Penanganan tiap-tiap negara pun berbeda, sesuai dengan kebijakan pemerintah. Hal ini mengakibatkan perbedaan trend kenaikan atau penurunan kasus covid berbeda-beda tiap negara.</p>\n",
    "\n",
    "Pada kasus kali ini, kita akan mencoba menggali data covid19 dari salah satu open api yang tersedia yaitu https://covid19-api.org/.\n",
    "\n",
    " "
   ]
  },
  {
   "cell_type": "code",
   "execution_count": 1,
   "metadata": {},
   "outputs": [],
   "source": [
    "import json\n",
    "import numpy as np\n",
    "import pandas as pd\n",
    "import requests"
   ]
  },
  {
   "cell_type": "markdown",
   "metadata": {},
   "source": [
    "Buat fungsi python get_json dengan parameter api_url. fungsi ini akan mengembalikan value berupa python dictionary jika status_code yang dihasilkan adalah 200. Jika tidak, maka value yang dikembalikan adalah None."
   ]
  },
  {
   "cell_type": "code",
   "execution_count": 2,
   "metadata": {},
   "outputs": [],
   "source": [
    "def get_json(api_url):\n",
    "\tresponse = requests.get(api_url)\n",
    "\tif response.status_code == 200:\n",
    "\t\treturn json.loads(response.content.decode('utf-8'))\n",
    "\telse:\n",
    "\t\treturn None"
   ]
  },
  {
   "cell_type": "markdown",
   "metadata": {},
   "source": [
    "<h2>Memanggil API </h2>\n",
    "\n",
    "Rekapitulasi data COVID-19 global berada di https://covid19-api.org/. Gunakan parameter record_date untuk mengambil data covid19 di seluruh negara pada tanggal tertentu. Untuk kasus ini, gunakan record_date '2020-11-20', dan masukkan hasil respon api ke variable df_covid_worldwide.\n",
    "\n",
    "Untuk mendapatkan dataframe covid19, gunakan fungsi pd.io.json.json_normalize dan panggil function yang sudah dibuat sebelumnya, yaitu get_json() Print sample data covid dengan menggunakan head() function."
   ]
  },
  {
   "cell_type": "code",
   "execution_count": 3,
   "metadata": {},
   "outputs": [
    {
     "name": "stdout",
     "output_type": "stream",
     "text": [
      "  country          last_update     cases  deaths  recovered\n",
      "0      US  2020-11-19T23:26:27  11689545  252290    4348089\n",
      "1      IN  2020-11-19T23:26:27   8958483  131578    8383602\n",
      "2      BR  2020-11-19T23:26:27   5945849  167455    5383385\n",
      "3      FR  2020-11-19T23:26:27   2136867   47201     153145\n",
      "4      RU  2020-11-19T23:26:27   1998966   34525    1514945\n"
     ]
    },
    {
     "name": "stderr",
     "output_type": "stream",
     "text": [
      "<ipython-input-3-0b58847eccc6>:3: FutureWarning: pandas.io.json.json_normalize is deprecated, use pandas.json_normalize instead\n",
      "  df_covid_worldwide = pd.io.json.json_normalize(get_json(covid_url))\n"
     ]
    }
   ],
   "source": [
    "record_date = '2020-11-20'\n",
    "covid_url = 'https://covid19-api.org/api/status?date='+record_date\n",
    "df_covid_worldwide = pd.io.json.json_normalize(get_json(covid_url))\n",
    "\n",
    "print(df_covid_worldwide.head())"
   ]
  },
  {
   "cell_type": "markdown",
   "metadata": {},
   "source": [
    "Ubah format kolom 'last_update' menggunakan fungsi to_datetime dengan format YYYY-mm-dd HH:MM:SS. Lalu ubah bentuk datetime ke bentuk date dengan fungsi date() melalui fungsi lambda untuk mengubah setiap row-nya."
   ]
  },
  {
   "cell_type": "code",
   "execution_count": 4,
   "metadata": {},
   "outputs": [],
   "source": [
    "df_covid_worldwide['last_update'] = pd.to_datetime(df_covid_worldwide['last_update'], format='%Y-%m-%d %H:%M:%S')\n",
    "df_covid_worldwide['last_update'] = df_covid_worldwide['last_update'].apply(lambda x: x.date())"
   ]
  },
  {
   "cell_type": "markdown",
   "metadata": {},
   "source": [
    "<h2>Mengambil Data Countries</h2>\n",
    "Buatlah dataframe countries dengan memanggil variable countries_url ke api covid19-api.org. Lalu ubah nama kolom alpha2 menjadi country, kemudian ambil hanya kolom name dan country saja untuk dataframe countries (df_countries) ini.\n",
    "\n",
    "Akhirnya cetaklah lima data teratas dari dataframe countries (df_countries).\n",
    "\n"
   ]
  },
  {
   "cell_type": "code",
   "execution_count": 5,
   "metadata": {},
   "outputs": [
    {
     "name": "stdout",
     "output_type": "stream",
     "text": [
      "               name country\n",
      "0       Afghanistan      AF\n",
      "1           Albania      AL\n",
      "2           Algeria      DZ\n",
      "3           Andorra      AD\n",
      "4            Angola      AO\n",
      "..              ...     ...\n",
      "204        Viet Nam      VN\n",
      "205  Western Sahara      EH\n",
      "206           Yemen      YE\n",
      "207          Zambia      ZM\n",
      "208        Zimbabwe      ZW\n",
      "\n",
      "[209 rows x 2 columns]\n"
     ]
    },
    {
     "name": "stderr",
     "output_type": "stream",
     "text": [
      "<ipython-input-5-cc9fa3b34052>:2: FutureWarning: pandas.io.json.json_normalize is deprecated, use pandas.json_normalize instead\n",
      "  df_countries = pd.io.json.json_normalize(get_json(countries_url))\n"
     ]
    }
   ],
   "source": [
    "countries_url = 'https://covid19-api.org/api/countries'\n",
    "df_countries = pd.io.json.json_normalize(get_json(countries_url))\n",
    "df_countries = df_countries.rename(columns={'alpha2': 'country'})[['name','country']]\n",
    "\n",
    "print(df_countries)"
   ]
  },
  {
   "cell_type": "markdown",
   "metadata": {},
   "source": [
    "<h2>Merge Covid19 Data dan Countries</h2>"
   ]
  },
  {
   "cell_type": "markdown",
   "metadata": {},
   "source": [
    "Selanjutnya adalah mapping data covid19 dan data country. Gunakan fungsi merge pada pandas untuk menggabungkan df_covid_worldwide dan df_countries. Untuk merge, gunakan kolom country. Lalu print sample data dengan menggunakan head()."
   ]
  },
  {
   "cell_type": "code",
   "execution_count": 6,
   "metadata": {},
   "outputs": [
    {
     "name": "stdout",
     "output_type": "stream",
     "text": [
      "  country last_update     cases  deaths  recovered                      name\n",
      "0      US  2020-11-19  11689545  252290    4348089  United States of America\n",
      "1      IN  2020-11-19   8958483  131578    8383602                     India\n",
      "2      BR  2020-11-19   5945849  167455    5383385                    Brazil\n",
      "3      FR  2020-11-19   2136867   47201     153145                    France\n",
      "4      RU  2020-11-19   1998966   34525    1514945        Russian Federation\n"
     ]
    }
   ],
   "source": [
    "df_covid_denormalized = pd.merge(df_covid_worldwide, df_countries, on='country')\n",
    "\n",
    "print(df_covid_denormalized.head())"
   ]
  },
  {
   "cell_type": "markdown",
   "metadata": {},
   "source": [
    "<h2>Menghitung Fatality Ratio</h2>"
   ]
  },
  {
   "cell_type": "markdown",
   "metadata": {},
   "source": [
    "Tambahkan satu kolom tambahan yaitu fatality_ratio, yang merupakan pembagian antara kolom deaths dan cases."
   ]
  },
  {
   "cell_type": "code",
   "execution_count": 7,
   "metadata": {},
   "outputs": [],
   "source": [
    "df_covid_denormalized['fatality_ratio'] = df_covid_denormalized['deaths']/df_covid_denormalized['cases']"
   ]
  },
  {
   "cell_type": "markdown",
   "metadata": {},
   "source": [
    "<h2>Negara-negara dengan Fatality Ratio Tertinggi</h2>"
   ]
  },
  {
   "cell_type": "markdown",
   "metadata": {},
   "source": [
    "Ambil top 20 negara dengan value kolom fatality_ratio tertinggi dengan menggunakan fungsi sort_values."
   ]
  },
  {
   "cell_type": "code",
   "execution_count": 8,
   "metadata": {},
   "outputs": [
    {
     "data": {
      "text/html": [
       "<div>\n",
       "<style scoped>\n",
       "    .dataframe tbody tr th:only-of-type {\n",
       "        vertical-align: middle;\n",
       "    }\n",
       "\n",
       "    .dataframe tbody tr th {\n",
       "        vertical-align: top;\n",
       "    }\n",
       "\n",
       "    .dataframe thead th {\n",
       "        text-align: right;\n",
       "    }\n",
       "</style>\n",
       "<table border=\"1\" class=\"dataframe\">\n",
       "  <thead>\n",
       "    <tr style=\"text-align: right;\">\n",
       "      <th></th>\n",
       "      <th>country</th>\n",
       "      <th>last_update</th>\n",
       "      <th>cases</th>\n",
       "      <th>deaths</th>\n",
       "      <th>recovered</th>\n",
       "      <th>name</th>\n",
       "      <th>fatality_ratio</th>\n",
       "    </tr>\n",
       "  </thead>\n",
       "  <tbody>\n",
       "    <tr>\n",
       "      <th>152</th>\n",
       "      <td>YE</td>\n",
       "      <td>2020-11-19</td>\n",
       "      <td>2086</td>\n",
       "      <td>608</td>\n",
       "      <td>1428</td>\n",
       "      <td>Yemen</td>\n",
       "      <td>0.291467</td>\n",
       "    </tr>\n",
       "    <tr>\n",
       "      <th>192</th>\n",
       "      <td>EH</td>\n",
       "      <td>2020-11-19</td>\n",
       "      <td>10</td>\n",
       "      <td>1</td>\n",
       "      <td>8</td>\n",
       "      <td>Western Sahara</td>\n",
       "      <td>0.100000</td>\n",
       "    </tr>\n",
       "    <tr>\n",
       "      <th>10</th>\n",
       "      <td>MX</td>\n",
       "      <td>2020-11-19</td>\n",
       "      <td>1015071</td>\n",
       "      <td>99528</td>\n",
       "      <td>762025</td>\n",
       "      <td>Mexico</td>\n",
       "      <td>0.098050</td>\n",
       "    </tr>\n",
       "    <tr>\n",
       "      <th>104</th>\n",
       "      <td>SD</td>\n",
       "      <td>2020-11-19</td>\n",
       "      <td>15047</td>\n",
       "      <td>1175</td>\n",
       "      <td>9609</td>\n",
       "      <td>Sudan</td>\n",
       "      <td>0.078089</td>\n",
       "    </tr>\n",
       "    <tr>\n",
       "      <th>37</th>\n",
       "      <td>EC</td>\n",
       "      <td>2020-11-19</td>\n",
       "      <td>183246</td>\n",
       "      <td>13073</td>\n",
       "      <td>160639</td>\n",
       "      <td>Ecuador</td>\n",
       "      <td>0.071341</td>\n",
       "    </tr>\n",
       "    <tr>\n",
       "      <th>155</th>\n",
       "      <td>TD</td>\n",
       "      <td>2020-11-19</td>\n",
       "      <td>1620</td>\n",
       "      <td>101</td>\n",
       "      <td>1463</td>\n",
       "      <td>Chad</td>\n",
       "      <td>0.062346</td>\n",
       "    </tr>\n",
       "    <tr>\n",
       "      <th>42</th>\n",
       "      <td>BO</td>\n",
       "      <td>2020-11-19</td>\n",
       "      <td>143569</td>\n",
       "      <td>8875</td>\n",
       "      <td>118333</td>\n",
       "      <td>Plurinational State of Bolivia</td>\n",
       "      <td>0.061817</td>\n",
       "    </tr>\n",
       "    <tr>\n",
       "      <th>54</th>\n",
       "      <td>EG</td>\n",
       "      <td>2020-11-19</td>\n",
       "      <td>111955</td>\n",
       "      <td>6508</td>\n",
       "      <td>101564</td>\n",
       "      <td>Egypt</td>\n",
       "      <td>0.058130</td>\n",
       "    </tr>\n",
       "    <tr>\n",
       "      <th>184</th>\n",
       "      <td>FJ</td>\n",
       "      <td>2020-11-19</td>\n",
       "      <td>35</td>\n",
       "      <td>2</td>\n",
       "      <td>32</td>\n",
       "      <td>Fiji</td>\n",
       "      <td>0.057143</td>\n",
       "    </tr>\n",
       "    <tr>\n",
       "      <th>156</th>\n",
       "      <td>LR</td>\n",
       "      <td>2020-11-19</td>\n",
       "      <td>1539</td>\n",
       "      <td>82</td>\n",
       "      <td>1331</td>\n",
       "      <td>Liberia</td>\n",
       "      <td>0.053281</td>\n",
       "    </tr>\n",
       "    <tr>\n",
       "      <th>13</th>\n",
       "      <td>IR</td>\n",
       "      <td>2020-11-19</td>\n",
       "      <td>815117</td>\n",
       "      <td>43417</td>\n",
       "      <td>583704</td>\n",
       "      <td>Islamic Republic of Iran</td>\n",
       "      <td>0.053265</td>\n",
       "    </tr>\n",
       "    <tr>\n",
       "      <th>158</th>\n",
       "      <td>NE</td>\n",
       "      <td>2020-11-19</td>\n",
       "      <td>1335</td>\n",
       "      <td>70</td>\n",
       "      <td>1153</td>\n",
       "      <td>Niger</td>\n",
       "      <td>0.052434</td>\n",
       "    </tr>\n",
       "    <tr>\n",
       "      <th>126</th>\n",
       "      <td>SY</td>\n",
       "      <td>2020-11-19</td>\n",
       "      <td>6991</td>\n",
       "      <td>363</td>\n",
       "      <td>2924</td>\n",
       "      <td>Syrian Arab Republic</td>\n",
       "      <td>0.051924</td>\n",
       "    </tr>\n",
       "    <tr>\n",
       "      <th>63</th>\n",
       "      <td>CN</td>\n",
       "      <td>2020-11-19</td>\n",
       "      <td>91918</td>\n",
       "      <td>4742</td>\n",
       "      <td>86709</td>\n",
       "      <td>China</td>\n",
       "      <td>0.051589</td>\n",
       "    </tr>\n",
       "    <tr>\n",
       "      <th>169</th>\n",
       "      <td>TZ</td>\n",
       "      <td>2020-11-19</td>\n",
       "      <td>509</td>\n",
       "      <td>21</td>\n",
       "      <td>183</td>\n",
       "      <td>United Republic of Tanzania</td>\n",
       "      <td>0.041257</td>\n",
       "    </tr>\n",
       "    <tr>\n",
       "      <th>11</th>\n",
       "      <td>PE</td>\n",
       "      <td>2020-11-19</td>\n",
       "      <td>939931</td>\n",
       "      <td>35317</td>\n",
       "      <td>869165</td>\n",
       "      <td>Peru</td>\n",
       "      <td>0.037574</td>\n",
       "    </tr>\n",
       "    <tr>\n",
       "      <th>86</th>\n",
       "      <td>AF</td>\n",
       "      <td>2020-11-19</td>\n",
       "      <td>44228</td>\n",
       "      <td>1650</td>\n",
       "      <td>35350</td>\n",
       "      <td>Afghanistan</td>\n",
       "      <td>0.037307</td>\n",
       "    </tr>\n",
       "    <tr>\n",
       "      <th>6</th>\n",
       "      <td>GB</td>\n",
       "      <td>2020-11-19</td>\n",
       "      <td>1456940</td>\n",
       "      <td>53870</td>\n",
       "      <td>3242</td>\n",
       "      <td>United Kingdom of Great Britain and Northern I...</td>\n",
       "      <td>0.036975</td>\n",
       "    </tr>\n",
       "    <tr>\n",
       "      <th>8</th>\n",
       "      <td>IT</td>\n",
       "      <td>2020-11-19</td>\n",
       "      <td>1308528</td>\n",
       "      <td>47870</td>\n",
       "      <td>498987</td>\n",
       "      <td>Italy</td>\n",
       "      <td>0.036583</td>\n",
       "    </tr>\n",
       "    <tr>\n",
       "      <th>30</th>\n",
       "      <td>CA</td>\n",
       "      <td>2020-11-19</td>\n",
       "      <td>318637</td>\n",
       "      <td>11313</td>\n",
       "      <td>256841</td>\n",
       "      <td>Canada</td>\n",
       "      <td>0.035504</td>\n",
       "    </tr>\n",
       "  </tbody>\n",
       "</table>\n",
       "</div>"
      ],
      "text/plain": [
       "    country last_update    cases  deaths  recovered  \\\n",
       "152      YE  2020-11-19     2086     608       1428   \n",
       "192      EH  2020-11-19       10       1          8   \n",
       "10       MX  2020-11-19  1015071   99528     762025   \n",
       "104      SD  2020-11-19    15047    1175       9609   \n",
       "37       EC  2020-11-19   183246   13073     160639   \n",
       "155      TD  2020-11-19     1620     101       1463   \n",
       "42       BO  2020-11-19   143569    8875     118333   \n",
       "54       EG  2020-11-19   111955    6508     101564   \n",
       "184      FJ  2020-11-19       35       2         32   \n",
       "156      LR  2020-11-19     1539      82       1331   \n",
       "13       IR  2020-11-19   815117   43417     583704   \n",
       "158      NE  2020-11-19     1335      70       1153   \n",
       "126      SY  2020-11-19     6991     363       2924   \n",
       "63       CN  2020-11-19    91918    4742      86709   \n",
       "169      TZ  2020-11-19      509      21        183   \n",
       "11       PE  2020-11-19   939931   35317     869165   \n",
       "86       AF  2020-11-19    44228    1650      35350   \n",
       "6        GB  2020-11-19  1456940   53870       3242   \n",
       "8        IT  2020-11-19  1308528   47870     498987   \n",
       "30       CA  2020-11-19   318637   11313     256841   \n",
       "\n",
       "                                                  name  fatality_ratio  \n",
       "152                                              Yemen        0.291467  \n",
       "192                                     Western Sahara        0.100000  \n",
       "10                                              Mexico        0.098050  \n",
       "104                                              Sudan        0.078089  \n",
       "37                                             Ecuador        0.071341  \n",
       "155                                               Chad        0.062346  \n",
       "42                      Plurinational State of Bolivia        0.061817  \n",
       "54                                               Egypt        0.058130  \n",
       "184                                               Fiji        0.057143  \n",
       "156                                            Liberia        0.053281  \n",
       "13                            Islamic Republic of Iran        0.053265  \n",
       "158                                              Niger        0.052434  \n",
       "126                               Syrian Arab Republic        0.051924  \n",
       "63                                               China        0.051589  \n",
       "169                        United Republic of Tanzania        0.041257  \n",
       "11                                                Peru        0.037574  \n",
       "86                                         Afghanistan        0.037307  \n",
       "6    United Kingdom of Great Britain and Northern I...        0.036975  \n",
       "8                                                Italy        0.036583  \n",
       "30                                              Canada        0.035504  "
      ]
     },
     "execution_count": 8,
     "metadata": {},
     "output_type": "execute_result"
    }
   ],
   "source": [
    "df_top_20_fatality_rate = df_covid_denormalized.sort_values(by='fatality_ratio', ascending=False).head(20)\n",
    "df_top_20_fatality_rate"
   ]
  },
  {
   "cell_type": "markdown",
   "metadata": {},
   "source": [
    "<h2>Visualisasi Negara dengan Fatality Ratio Tertinggi</h2>\n",
    "<p>Untuk memvisualisasikan negara-negara dengan kasus fatality rate tertinggi akibat covid-19 ini dapat dilakukan dengan menggunakan bar chart.  Di sini tentukan terlebih dahulu isi dari variable x axis dan y axis.</p>\n",
    "<p>Variabel x axis adalah kolom name, dan kolom y atau value nya adalah kolom fatality_ratio dan gunakan fungsi plt.bar([value x axis, value y axis]).</p>\n",
    "<p>Label sumbu x diputar 90 derajat untuk menghindari bertumpuknya nama-nama negara pada posisi 0 derajat.</p>"
   ]
  },
  {
   "cell_type": "code",
   "execution_count": 9,
   "metadata": {},
   "outputs": [
    {
     "data": {
      "image/png": "[encoded data removed]",
      "text/plain": [
       "<Figure size 1440x576 with 1 Axes>"
      ]
     },
     "metadata": {
      "needs_background": "light"
     },
     "output_type": "display_data"
    }
   ],
   "source": [
    "import matplotlib.pyplot as plt\n",
    "plt.figure(figsize=(20, 8))\n",
    "x = df_top_20_fatality_rate['name']\n",
    "y = df_top_20_fatality_rate['fatality_ratio']\n",
    "plt.bar(x,y)\n",
    "plt.xlabel('Country Name')\n",
    "plt.ylabel('Fatality Rate')\n",
    "plt.title('Top 20 Highest Fatality Rate Countries')\n",
    "plt.xticks(rotation=90)\n",
    "plt.tight_layout()\n",
    "plt.show()"
   ]
  },
  {
   "cell_type": "markdown",
   "metadata": {},
   "source": [
    "<h2>Menggabungkan Dataframe</h2>\n",
    "<p>Selanjutnya adalah membandingkan kasus covid19 di Indonesia (ID) dengan negara-negara tetangga, yaitu:</p>\n",
    "<ul>\n",
    "    <li>MY -> Malaysia,</li>\n",
    "    <li>SG -> Singapure,</li>\n",
    "    <li>TH -> Thailand,</li>\n",
    "    <li>VN -> Vietnam.</li>\n",
    "</ul>\n",
    "<p>Untuk itu, api country dipanggil berkali-kali sebanyak negara yang akan kita bandingkan.</p>\n",
    "<p>Gunakan fungsi pd.io.json.json_normalize dan panggil function yang sudah dibuat sebelumnya, yaitu get_json().</p>\n",
    "<p>Gunakan fungsi datetime untuk merubah string ke bentuk datetime (YYYY-mm-dd HH:MM:SS) yang selanjutnya diubah ke format date.</p>\n",
    "<p>Cetaklah lima data teratas dari dataframe yang telah dibentuk.</p>"
   ]
  },
  {
   "cell_type": "code",
   "execution_count": 10,
   "metadata": {},
   "outputs": [
    {
     "name": "stderr",
     "output_type": "stream",
     "text": [
      "<ipython-input-10-d201a4687209>:5: FutureWarning: pandas.io.json.json_normalize is deprecated, use pandas.json_normalize instead\n",
      "  df_covid_timeline = pd.io.json.json_normalize(get_json(covid_timeline_url))\n"
     ]
    },
    {
     "name": "stdout",
     "output_type": "stream",
     "text": [
      "     country last_update  cases  deaths  recovered\n",
      "0         VN  2020-11-22   1306      35       1142\n",
      "1         VN  2020-11-21   1306      35       1142\n",
      "2         VN  2020-11-20   1305      35       1142\n",
      "3         VN  2020-11-19   1304      35       1142\n",
      "4         VN  2020-11-18   1300      35       1124\n",
      "...      ...         ...    ...     ...        ...\n",
      "1403      ID  2020-03-10     27       0          2\n",
      "1404      ID  2020-03-09     19       0          0\n",
      "1405      ID  2020-03-08      6       0          0\n",
      "1406      ID  2020-03-06      4       0          0\n",
      "1407      ID  2020-03-02      2       0          0\n",
      "\n",
      "[1408 rows x 5 columns]\n"
     ]
    }
   ],
   "source": [
    "countries = ['ID','MY','SG','TH','VN']\n",
    "i = 0\n",
    "for country in countries:\n",
    "\tcovid_timeline_url = 'https://covid19-api.org/api/timeline/'+country\n",
    "\tdf_covid_timeline = pd.io.json.json_normalize(get_json(covid_timeline_url))\n",
    "\tdf_covid_timeline['last_update'] = pd.to_datetime(df_covid_timeline['last_update'], format='%Y-%m-%d %H:%M:%S')\n",
    "\tdf_covid_timeline['last_update'] = df_covid_timeline['last_update'].apply(lambda x: x.date())\n",
    "\tif i==0:\n",
    "\t\tdf_covid_timeline_merged = df_covid_timeline\n",
    "\telse:\n",
    "\t\tdf_covid_timeline_merged = df_covid_timeline.append(df_covid_timeline_merged, ignore_index=True)\n",
    "\ti=i+1\n",
    "    \n",
    "print(df_covid_timeline_merged)"
   ]
  },
  {
   "cell_type": "markdown",
   "metadata": {},
   "source": [
    "<h2>Merge Data Covid19 Dengan Data Country</h2>\n",
    "<p>Lalu gabungkan df_covid_timeline_merged dengan df_countries dengan kolom country sebagai pivot.</p>"
   ]
  },
  {
   "cell_type": "code",
   "execution_count": 11,
   "metadata": {},
   "outputs": [],
   "source": [
    "df_covid_timeline_denormalized = pd.merge(df_covid_timeline_merged , df_countries , on='country')"
   ]
  },
  {
   "cell_type": "code",
   "execution_count": 12,
   "metadata": {},
   "outputs": [
    {
     "data": {
      "text/html": [
       "<div>\n",
       "<style scoped>\n",
       "    .dataframe tbody tr th:only-of-type {\n",
       "        vertical-align: middle;\n",
       "    }\n",
       "\n",
       "    .dataframe tbody tr th {\n",
       "        vertical-align: top;\n",
       "    }\n",
       "\n",
       "    .dataframe thead th {\n",
       "        text-align: right;\n",
       "    }\n",
       "</style>\n",
       "<table border=\"1\" class=\"dataframe\">\n",
       "  <thead>\n",
       "    <tr style=\"text-align: right;\">\n",
       "      <th></th>\n",
       "      <th>country</th>\n",
       "      <th>last_update</th>\n",
       "      <th>cases</th>\n",
       "      <th>deaths</th>\n",
       "      <th>recovered</th>\n",
       "      <th>name</th>\n",
       "    </tr>\n",
       "  </thead>\n",
       "  <tbody>\n",
       "    <tr>\n",
       "      <th>0</th>\n",
       "      <td>VN</td>\n",
       "      <td>2020-11-22</td>\n",
       "      <td>1306</td>\n",
       "      <td>35</td>\n",
       "      <td>1142</td>\n",
       "      <td>Viet Nam</td>\n",
       "    </tr>\n",
       "    <tr>\n",
       "      <th>1</th>\n",
       "      <td>VN</td>\n",
       "      <td>2020-11-21</td>\n",
       "      <td>1306</td>\n",
       "      <td>35</td>\n",
       "      <td>1142</td>\n",
       "      <td>Viet Nam</td>\n",
       "    </tr>\n",
       "    <tr>\n",
       "      <th>2</th>\n",
       "      <td>VN</td>\n",
       "      <td>2020-11-20</td>\n",
       "      <td>1305</td>\n",
       "      <td>35</td>\n",
       "      <td>1142</td>\n",
       "      <td>Viet Nam</td>\n",
       "    </tr>\n",
       "    <tr>\n",
       "      <th>3</th>\n",
       "      <td>VN</td>\n",
       "      <td>2020-11-19</td>\n",
       "      <td>1304</td>\n",
       "      <td>35</td>\n",
       "      <td>1142</td>\n",
       "      <td>Viet Nam</td>\n",
       "    </tr>\n",
       "    <tr>\n",
       "      <th>4</th>\n",
       "      <td>VN</td>\n",
       "      <td>2020-11-18</td>\n",
       "      <td>1300</td>\n",
       "      <td>35</td>\n",
       "      <td>1124</td>\n",
       "      <td>Viet Nam</td>\n",
       "    </tr>\n",
       "    <tr>\n",
       "      <th>...</th>\n",
       "      <td>...</td>\n",
       "      <td>...</td>\n",
       "      <td>...</td>\n",
       "      <td>...</td>\n",
       "      <td>...</td>\n",
       "      <td>...</td>\n",
       "    </tr>\n",
       "    <tr>\n",
       "      <th>1403</th>\n",
       "      <td>ID</td>\n",
       "      <td>2020-03-10</td>\n",
       "      <td>27</td>\n",
       "      <td>0</td>\n",
       "      <td>2</td>\n",
       "      <td>Indonesia</td>\n",
       "    </tr>\n",
       "    <tr>\n",
       "      <th>1404</th>\n",
       "      <td>ID</td>\n",
       "      <td>2020-03-09</td>\n",
       "      <td>19</td>\n",
       "      <td>0</td>\n",
       "      <td>0</td>\n",
       "      <td>Indonesia</td>\n",
       "    </tr>\n",
       "    <tr>\n",
       "      <th>1405</th>\n",
       "      <td>ID</td>\n",
       "      <td>2020-03-08</td>\n",
       "      <td>6</td>\n",
       "      <td>0</td>\n",
       "      <td>0</td>\n",
       "      <td>Indonesia</td>\n",
       "    </tr>\n",
       "    <tr>\n",
       "      <th>1406</th>\n",
       "      <td>ID</td>\n",
       "      <td>2020-03-06</td>\n",
       "      <td>4</td>\n",
       "      <td>0</td>\n",
       "      <td>0</td>\n",
       "      <td>Indonesia</td>\n",
       "    </tr>\n",
       "    <tr>\n",
       "      <th>1407</th>\n",
       "      <td>ID</td>\n",
       "      <td>2020-03-02</td>\n",
       "      <td>2</td>\n",
       "      <td>0</td>\n",
       "      <td>0</td>\n",
       "      <td>Indonesia</td>\n",
       "    </tr>\n",
       "  </tbody>\n",
       "</table>\n",
       "<p>1408 rows × 6 columns</p>\n",
       "</div>"
      ],
      "text/plain": [
       "     country last_update  cases  deaths  recovered       name\n",
       "0         VN  2020-11-22   1306      35       1142   Viet Nam\n",
       "1         VN  2020-11-21   1306      35       1142   Viet Nam\n",
       "2         VN  2020-11-20   1305      35       1142   Viet Nam\n",
       "3         VN  2020-11-19   1304      35       1142   Viet Nam\n",
       "4         VN  2020-11-18   1300      35       1124   Viet Nam\n",
       "...      ...         ...    ...     ...        ...        ...\n",
       "1403      ID  2020-03-10     27       0          2  Indonesia\n",
       "1404      ID  2020-03-09     19       0          0  Indonesia\n",
       "1405      ID  2020-03-08      6       0          0  Indonesia\n",
       "1406      ID  2020-03-06      4       0          0  Indonesia\n",
       "1407      ID  2020-03-02      2       0          0  Indonesia\n",
       "\n",
       "[1408 rows x 6 columns]"
      ]
     },
     "execution_count": 12,
     "metadata": {},
     "output_type": "execute_result"
    }
   ],
   "source": [
    "df_covid_timeline_denormalized"
   ]
  },
  {
   "cell_type": "markdown",
   "metadata": {},
   "source": [
    "<h2>Kasus Covid-19 di ASEAN pada Bulan Maret 2020</h2>\n",
    "<p>Filter kolom last_update dari data covid19 sehingga hanya data dari tanggal 1 Maret 2020 ke atas yangdiambil. Format datetime.date menggunakan format YYYY, mm, dd.</p>"
   ]
  },
  {
   "cell_type": "code",
   "execution_count": 13,
   "metadata": {},
   "outputs": [],
   "source": [
    "import datetime\n",
    "df_covid_timeline_denormalized = df_covid_timeline_denormalized[(df_covid_timeline_denormalized['last_update'] >= datetime.date(2020, 3, 1))]"
   ]
  },
  {
   "cell_type": "code",
   "execution_count": 14,
   "metadata": {},
   "outputs": [
    {
     "data": {
      "text/html": [
       "<div>\n",
       "<style scoped>\n",
       "    .dataframe tbody tr th:only-of-type {\n",
       "        vertical-align: middle;\n",
       "    }\n",
       "\n",
       "    .dataframe tbody tr th {\n",
       "        vertical-align: top;\n",
       "    }\n",
       "\n",
       "    .dataframe thead th {\n",
       "        text-align: right;\n",
       "    }\n",
       "</style>\n",
       "<table border=\"1\" class=\"dataframe\">\n",
       "  <thead>\n",
       "    <tr style=\"text-align: right;\">\n",
       "      <th></th>\n",
       "      <th>country</th>\n",
       "      <th>last_update</th>\n",
       "      <th>cases</th>\n",
       "      <th>deaths</th>\n",
       "      <th>recovered</th>\n",
       "      <th>name</th>\n",
       "    </tr>\n",
       "  </thead>\n",
       "  <tbody>\n",
       "    <tr>\n",
       "      <th>0</th>\n",
       "      <td>VN</td>\n",
       "      <td>2020-11-22</td>\n",
       "      <td>1306</td>\n",
       "      <td>35</td>\n",
       "      <td>1142</td>\n",
       "      <td>Viet Nam</td>\n",
       "    </tr>\n",
       "    <tr>\n",
       "      <th>1</th>\n",
       "      <td>VN</td>\n",
       "      <td>2020-11-21</td>\n",
       "      <td>1306</td>\n",
       "      <td>35</td>\n",
       "      <td>1142</td>\n",
       "      <td>Viet Nam</td>\n",
       "    </tr>\n",
       "    <tr>\n",
       "      <th>2</th>\n",
       "      <td>VN</td>\n",
       "      <td>2020-11-20</td>\n",
       "      <td>1305</td>\n",
       "      <td>35</td>\n",
       "      <td>1142</td>\n",
       "      <td>Viet Nam</td>\n",
       "    </tr>\n",
       "    <tr>\n",
       "      <th>3</th>\n",
       "      <td>VN</td>\n",
       "      <td>2020-11-19</td>\n",
       "      <td>1304</td>\n",
       "      <td>35</td>\n",
       "      <td>1142</td>\n",
       "      <td>Viet Nam</td>\n",
       "    </tr>\n",
       "    <tr>\n",
       "      <th>4</th>\n",
       "      <td>VN</td>\n",
       "      <td>2020-11-18</td>\n",
       "      <td>1300</td>\n",
       "      <td>35</td>\n",
       "      <td>1124</td>\n",
       "      <td>Viet Nam</td>\n",
       "    </tr>\n",
       "    <tr>\n",
       "      <th>...</th>\n",
       "      <td>...</td>\n",
       "      <td>...</td>\n",
       "      <td>...</td>\n",
       "      <td>...</td>\n",
       "      <td>...</td>\n",
       "      <td>...</td>\n",
       "    </tr>\n",
       "    <tr>\n",
       "      <th>1403</th>\n",
       "      <td>ID</td>\n",
       "      <td>2020-03-10</td>\n",
       "      <td>27</td>\n",
       "      <td>0</td>\n",
       "      <td>2</td>\n",
       "      <td>Indonesia</td>\n",
       "    </tr>\n",
       "    <tr>\n",
       "      <th>1404</th>\n",
       "      <td>ID</td>\n",
       "      <td>2020-03-09</td>\n",
       "      <td>19</td>\n",
       "      <td>0</td>\n",
       "      <td>0</td>\n",
       "      <td>Indonesia</td>\n",
       "    </tr>\n",
       "    <tr>\n",
       "      <th>1405</th>\n",
       "      <td>ID</td>\n",
       "      <td>2020-03-08</td>\n",
       "      <td>6</td>\n",
       "      <td>0</td>\n",
       "      <td>0</td>\n",
       "      <td>Indonesia</td>\n",
       "    </tr>\n",
       "    <tr>\n",
       "      <th>1406</th>\n",
       "      <td>ID</td>\n",
       "      <td>2020-03-06</td>\n",
       "      <td>4</td>\n",
       "      <td>0</td>\n",
       "      <td>0</td>\n",
       "      <td>Indonesia</td>\n",
       "    </tr>\n",
       "    <tr>\n",
       "      <th>1407</th>\n",
       "      <td>ID</td>\n",
       "      <td>2020-03-02</td>\n",
       "      <td>2</td>\n",
       "      <td>0</td>\n",
       "      <td>0</td>\n",
       "      <td>Indonesia</td>\n",
       "    </tr>\n",
       "  </tbody>\n",
       "</table>\n",
       "<p>1312 rows × 6 columns</p>\n",
       "</div>"
      ],
      "text/plain": [
       "     country last_update  cases  deaths  recovered       name\n",
       "0         VN  2020-11-22   1306      35       1142   Viet Nam\n",
       "1         VN  2020-11-21   1306      35       1142   Viet Nam\n",
       "2         VN  2020-11-20   1305      35       1142   Viet Nam\n",
       "3         VN  2020-11-19   1304      35       1142   Viet Nam\n",
       "4         VN  2020-11-18   1300      35       1124   Viet Nam\n",
       "...      ...         ...    ...     ...        ...        ...\n",
       "1403      ID  2020-03-10     27       0          2  Indonesia\n",
       "1404      ID  2020-03-09     19       0          0  Indonesia\n",
       "1405      ID  2020-03-08      6       0          0  Indonesia\n",
       "1406      ID  2020-03-06      4       0          0  Indonesia\n",
       "1407      ID  2020-03-02      2       0          0  Indonesia\n",
       "\n",
       "[1312 rows x 6 columns]"
      ]
     },
     "execution_count": 14,
     "metadata": {},
     "output_type": "execute_result"
    }
   ],
   "source": [
    "df_covid_timeline_denormalized"
   ]
  },
  {
   "cell_type": "markdown",
   "metadata": {},
   "source": [
    "<h2>Visualisasi Kasus Covid-19 di ASEAN</h2>\n",
    "<p>Buat variable x dan y dimana x adalah tanggal (last_update) pada tiap-tiap negara dan y adalah jumlah kasus (cases) pada tiap-tiap negara. Lalu plot x dan y untuk menggambar line chart.</p>"
   ]
  },
  {
   "cell_type": "code",
   "execution_count": 15,
   "metadata": {},
   "outputs": [
    {
     "data": {
      "image/png": "[encoded data removed]",
      "text/plain": [
       "<Figure size 432x288 with 1 Axes>"
      ]
     },
     "metadata": {
      "needs_background": "light"
     },
     "output_type": "display_data"
    }
   ],
   "source": [
    "import matplotlib.pyplot as plt\n",
    "plt.clf()\n",
    "countries = ['ID','MY','SG','TH','VN']\n",
    "for country in countries:\n",
    "\tcountry_data = df_covid_timeline_denormalized['country']==country\n",
    "\tx = df_covid_timeline_denormalized[country_data]['last_update']\n",
    "\ty = df_covid_timeline_denormalized[country_data]['cases']\n",
    "\tplt.plot(x, y, label = country)\n",
    "\n",
    "plt.legend()\n",
    "plt.xlabel('Record Date')\n",
    "plt.ylabel('Total Cases')\n",
    "plt.xticks(rotation=45)\n",
    "plt.title('Asean Covid19 Cases Comparison')\n",
    "plt.show()"
   ]
  },
  {
   "cell_type": "markdown",
   "metadata": {},
   "source": [
    "<p>Dari visualisasi yang telah dilakukan dapat dilihat bahwa kasus covid-19 di Indonesia masih sangat tinggi dan kurvanya masih terus naik dari bulan Maret hingga bulan November. Jika dibandingkan dengan negara-negara tetangganya seperti Malaysia, Singapura, Thailand, dan Vietnam kasus covid-19 di negara-negara tesebut jauh lebih rendah dibandingkan dengan negara kita. Oleh karena itu, langkah-langkah pencegahan penularan harus dilakukan seperti mematuhi protokol kesehatan dan ketegasan pemerintah dalam menegakkan protokol kesehatan.</p>"
   ]
  },
  {
   "cell_type": "code",
   "execution_count": null,
   "metadata": {},
   "outputs": [],
   "source": []
  }
 ],
 "metadata": {
  "kernelspec": {
   "display_name": "Python 3",
   "language": "python",
   "name": "python3"
  },
  "language_info": {
   "codemirror_mode": {
    "name": "ipython",
    "version": 3
   },
   "file_extension": ".py",
   "mimetype": "text/x-python",
   "name": "python",
   "nbconvert_exporter": "python",
   "pygments_lexer": "ipython3",
   "version": "3.8.5"
  }
 },
 "nbformat": 4,
 "nbformat_minor": 4
}
